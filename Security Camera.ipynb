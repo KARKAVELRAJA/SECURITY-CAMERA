{
 "cells": [
  {
   "cell_type": "markdown",
   "metadata": {},
   "source": [
    " # SECURITY CAMERA"
   ]
  },
  {
   "cell_type": "markdown",
   "metadata": {},
   "source": [
    "## ***Moving Object Detection and Tracking using OpenCV***"
   ]
  },
  {
   "cell_type": "code",
   "execution_count": 5,
   "metadata": {},
   "outputs": [],
   "source": [
    "import cv2\n",
    "#import imutils\n",
    "import winsound\n",
    "\n",
    "#area  = 500\n",
    "camera = cv2.VideoCapture(0)\n",
    "\n",
    "while True:\n",
    "    \n",
    "    # obtaining two frames\n",
    "    _, frame1 = camera.read()\n",
    "    frame1    = cv2.flip(frame1,1)\n",
    "    #frame1    = imutils.resize(frame1,width=500)\n",
    "    _, frame2 = camera.read()\n",
    "    frame2    = cv2.flip(frame2,1)\n",
    "    #frame2    = imutils.resize(frame2,width=500)\n",
    "    \n",
    "    # obtaining the difference between the frames\n",
    "    diff      = cv2.absdiff(frame1,frame2)\n",
    "    \n",
    "    # preprocessing\n",
    "    gray      = cv2.cvtColor(diff,cv2.COLOR_BGR2GRAY) # gray scale conversion\n",
    "    blur      = cv2.GaussianBlur(gray, (5,5), 0) # adding blur\n",
    "    \n",
    "    _, thresh = cv2.threshold(blur,20,255,cv2.THRESH_BINARY) # adding threshold to remove noise\n",
    "    dilated   = cv2.dilate(thresh, None, iterations = 3) # opposite to threshold\n",
    "    \n",
    "    contours,_= cv2.findContours(dilated,cv2.RETR_TREE, cv2.CHAIN_APPROX_SIMPLE) # getting contours\n",
    "    for c in contours: # obtaining all the contours\n",
    "        if cv2.contourArea(c)<5000: # area\n",
    "            continue\n",
    "            \n",
    "        x,y,w,h = cv2.boundingRect(c) # obtaining points to draw rectangle\n",
    "        cv2.rectangle(frame1,(x,y),(x+w,y+h),(0,255,0),2)\n",
    "        winsound.Beep(500,200) # adding sound\n",
    "    \n",
    "    cv2.imshow(\"Security Camera\",frame1)\n",
    "    \n",
    "    key = cv2.waitKey(1) & 0xFF\n",
    "    if key == ord(\"q\"):\n",
    "        break\n",
    "    \n",
    "camera.release()\n",
    "\n",
    "cv2.destroyAllWindows()"
   ]
  }
 ],
 "metadata": {
  "kernelspec": {
   "display_name": "Python 3",
   "language": "python",
   "name": "python3"
  },
  "language_info": {
   "codemirror_mode": {
    "name": "ipython",
    "version": 3
   },
   "file_extension": ".py",
   "mimetype": "text/x-python",
   "name": "python",
   "nbconvert_exporter": "python",
   "pygments_lexer": "ipython3",
   "version": "3.8.5"
  }
 },
 "nbformat": 4,
 "nbformat_minor": 4
}
